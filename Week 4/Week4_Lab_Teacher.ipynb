{
  "cells": [
    {
      "cell_type": "markdown",
      "metadata": {},
      "source": [
        "# Week 4 Lab: Logic Gates and SQL Foundations\n",
        "\n",
        "Welcome! Work through the prompts below to explore how hardware logic ideas meet relational data tools. Run cells in order. Add explanatory comments where helpful."
      ]
    },
    {
      "cell_type": "markdown",
      "metadata": {},
      "source": [
        "## Part 1 \u2013 Logic Gates Refresher\n",
        "\n",
        "We will represent logical values as Python integers (`0` and `1`). TODO items mark places where you should complete code."
      ]
    },
    {
      "cell_type": "code",
      "metadata": {},
      "execution_count": null,
      "outputs": [],
      "source": [
        "from itertools import product\n",
        "\n",
        "# Helper function to display truth tables\n",
        "def print_truth_table(func, inputs):\n",
        "    header = ' '.join([f'in{i+1}' for i in range(len(inputs[0]))]) + ' | out'\n",
        "    print(header)\n",
        "    print('-' * len(header))\n",
        "    for row in inputs:\n",
        "        print(' '.join(str(bit) for bit in row) + f\" | {func(*row)}\")\n",
        "\n",
        "# All possible 2-input combinations\n",
        "inputs_2 = list(product([0, 1], repeat=2))\n",
        "inputs_1 = [(0,), (1,)]"
      ]
    },
    {
      "cell_type": "code",
      "metadata": {},
      "execution_count": null,
      "outputs": [],
      "source": [
        "def NOT(a):\n",
        "    \"\"\"Return the inverse of an input bit. TODO: replace `...` with the correct expression.\"\"\"\n",
        "    return 1 - int(bool(a))"
      ]
    },
    {
      "cell_type": "code",
      "metadata": {},
      "execution_count": null,
      "outputs": [],
      "source": [
        "def AND(a, b):\n",
        "    \"\"\"Produce 1 only when both inputs are 1. TODO: implement using logical or arithmetic operations.\"\"\"\n",
        "    return int(bool(a) and bool(b))"
      ]
    },
    {
      "cell_type": "code",
      "metadata": {},
      "execution_count": null,
      "outputs": [],
      "source": [
        "def OR(a, b):\n",
        "    \"\"\"Produce 1 when at least one input is 1.\"\"\"\n",
        "    return int(bool(a) or bool(b))"
      ]
    },
    {
      "cell_type": "code",
      "metadata": {},
      "execution_count": null,
      "outputs": [],
      "source": [
        "def XOR(a, b):\n",
        "    \"\"\"Exclusive OR: 1 when inputs differ.\"\"\"\n",
        "    return int((a or b) and not (a and b))"
      ]
    },
    {
      "cell_type": "code",
      "metadata": {},
      "execution_count": null,
      "outputs": [],
      "source": [
        "TODO: Uncomment and run once your gate functions are implemented\n",
        "print_truth_table(NOT, inputs_1)\n",
        "print()\n",
        "print_truth_table(AND, inputs_2)\n",
        "print()\n",
        "print_truth_table(OR, inputs_2)\n",
        "print()\n",
        "print_truth_table(XOR, inputs_2)"
      ]
    },
    {
      "cell_type": "markdown",
      "metadata": {},
      "source": [
        "### Build Adders\n",
        "\n",
        "Use the primitive gates to create circuits that add bits. The carry output represents overflow."
      ]
    },
    {
      "cell_type": "code",
      "metadata": {},
      "execution_count": null,
      "outputs": [],
      "source": [
        "def half_adder(a, b):\n",
        "    \"\"\"Return a tuple of (sum_bit, carry_bit).\"\"\"\n",
        "    # TODO: derive from XOR/AND once they work\n",
        "    sum_bit = ...\n",
        "    carry_bit = ...\n",
        "    return sum_bit, carry_bit"
      ]
    },
    {
      "cell_type": "code",
      "metadata": {},
      "execution_count": null,
      "outputs": [],
      "source": [
        "def full_adder(a, b, carry_in):\n",
        "    \"\"\"Combine two half adders to support a carry-in bit.\"\"\"\n",
        "    # TODO: reuse half_adder and compute carry_out properly\n",
        "    intermediate_sum, carry1 = ...\n",
        "    sum_bit, carry2 = ...\n",
        "    carry_out = ...\n",
        "    return sum_bit, carry_out"
      ]
    },
    {
      "cell_type": "code",
      "metadata": {},
      "execution_count": null,
      "outputs": [],
      "source": [
        "for bits in product([0, 1], repeat=3):\n",
        "    s, c = full_adder(*bits)\n",
        "    print(f\"inputs={bits} -> sum={s}, carry_out={c}\")"
      ]
    },
    {
      "cell_type": "markdown",
      "metadata": {},
      "source": [
        "## Part 2 \u2013 SQL Origins and Basics\n",
        "\n",
        "We will use the built-in `sqlite3` module so queries run anywhere (including Colab)."
      ]
    },
    {
      "cell_type": "code",
      "metadata": {},
      "execution_count": null,
      "outputs": [],
      "source": [
        "import sqlite3\n",
        "from pprint import pprint\n",
        "\n",
        "connection = sqlite3.connect(':memory:')\n",
        "cursor = connection.cursor()\n",
        "\n",
        "# Schema inspired by classic hardware components\n",
        "cursor.execute(\"\"\"\n",
        "CREATE TABLE components (\n",
        "    id INTEGER PRIMARY KEY AUTOINCREMENT,\n",
        "    name TEXT NOT NULL,\n",
        "    type TEXT NOT NULL,\n",
        "    description TEXT,\n",
        "    year INTEGER,\n",
        "    price REAL\n",
        ");\n",
        "\"\"\")\n",
        "\n",
        "components = [\n",
        "    ('7400 NAND Gate IC', 'logic', 'Quad 2-input NAND gate', 1964, 1.50),\n",
        "    ('Intel 4004', 'cpu', 'First commercial microprocessor', 1971, 60.00),\n",
        "    ('Raspberry Pi Pico', 'microcontroller', 'Arm Cortex-M0+ board', 2021, 4.00),\n",
        "    ('LED', 'output', 'Indicator light emitting diode', 1962, 0.10),\n",
        "    ('74LS86 XOR Gate IC', 'logic', 'Quad 2-input XOR gate', 1976, 1.75)\n",
        "]\n",
        "\n",
        "cursor.executemany('INSERT INTO components (name, type, description, year, price) VALUES (?, ?, ?, ?, ?);', components)\n",
        "connection.commit()\n",
        "\n",
        "print('Rows inserted:', cursor.execute('SELECT COUNT(*) FROM components').fetchone()[0])"
      ]
    },
    {
      "cell_type": "markdown",
      "metadata": {},
      "source": [
        "### Query Practice\n",
        "\n",
        "Rewrite the placeholder queries below so they answer the prompt. Use standard SQL keywords (uppercase optional)."
      ]
    },
    {
      "cell_type": "code",
      "metadata": {},
      "execution_count": null,
      "outputs": [],
      "source": [
        "# TODO: Select all logic components ordered by year (oldest first)\n",
        "query_logic = \"\"\n",
        "SELECT name, type, year\n",
        "FROM components\n",
        "WHERE type = 'logic'\n",
        "ORDER BY year ASC;\n",
        "\"\"\n",
        "cursor.execute(query_logic)\n",
        "pprint(cursor.fetchall())"
      ]
    },
    {
      "cell_type": "code",
      "metadata": {},
      "execution_count": null,
      "outputs": [],
      "source": [
        "# TODO: Retrieve name and price for components that cost more than 5 dollars\n",
        "query_pricey = \"\"\n",
        "SELECT name, price\n",
        "FROM components\n",
        "WHERE price > 5\n",
        "ORDER BY price DESC;\n",
        "\"\"\n",
        "cursor.execute(query_pricey)\n",
        "pprint(cursor.fetchall())"
      ]
    },
    {
      "cell_type": "code",
      "metadata": {},
      "execution_count": null,
      "outputs": [],
      "source": [
        "# TODO: Count how many distinct component types appear in the table\n",
        "query_types = \"\"\n",
        "SELECT COUNT(DISTINCT type)\n",
        "FROM components;\n",
        "\"\"\n",
        "cursor.execute(query_types)\n",
        "print(cursor.fetchone())"
      ]
    },
    {
      "cell_type": "markdown",
      "metadata": {},
      "source": [
        "### Reflection\n",
        "\n",
        "- What advantages does SQL provide compared to manually filtering Python lists?\n",
        "- How do truth tables help you verify your SQL queries' logic? Write a brief note below."
      ]
    },
    {
      "cell_type": "code",
      "metadata": {},
      "execution_count": null,
      "outputs": [],
      "source": [
        "# Write your reflection as a Python triple-quoted string or print statement below\n",
        "reflection = \"\"\n",
        "Hardware logic abstractions make SQL conditions feel natural; both rely on boolean reasoning.\n",
        "SQL shines because it expresses data filters declaratively.\n",
        "\"\"\n",
        "print(reflection.strip())"
      ]
    }
  ],
  "metadata": {
    "kernelspec": {
      "display_name": "Python 3",
      "language": "python",
      "name": "python3"
    },
    "language_info": {
      "name": "python",
      "version": "3.11"
    }
  },
  "nbformat": 4,
  "nbformat_minor": 5
}