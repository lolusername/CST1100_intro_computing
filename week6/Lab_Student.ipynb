{
 "cells": [
  {
   "cell_type": "markdown",
   "metadata": {},
   "source": [
    "# Week 6 Lab — Python First Programs: Variables, I/O, Decisions, Loops\n",
    "**Duration: ~90 minutes** | **Reference: Fundamentals of Python: First Programs, 3rd Ed.**\n",
    "\n",
    "## Welcome to Your First Programming Lab! 🐍\n",
    "\n",
    "This lab assumes **no prior coding experience**. We'll build real, useful programs step by step.\n",
    "\n",
    "### What You'll Learn Today\n",
    "- **Variables & Data Types**: Store and work with different kinds of information\n",
    "- **Input/Output**: Get data from users and display results beautifully  \n",
    "- **Decision Making**: Write programs that make choices (`if/elif/else`)\n",
    "- **Repetition**: Automate repetitive tasks with loops (`for` and `while`)\n",
    "- **Data Analysis**: Process real data (like fitness tracking) with Python\n",
    "\n",
    "### Lab Structure (90 minutes)\n",
    "1. **Getting Started** (15 min) - Hello World & Variables\n",
    "2. **User Interaction** (15 min) - Input, Output, Type Conversion  \n",
    "3. **Decision Making** (20 min) - Smart Calculators & Logic\n",
    "4. **Repetition & Loops** (20 min) - Automating Tasks\n",
    "5. **Data Analysis** (15 min) - Working with Real Data\n",
    "6. **Reflection & Next Steps** (5 min)\n",
    "\n",
    "### Pro Tips for Success\n",
    "- **Run cells one at a time** (Shift+Enter)\n",
    "- **Read error messages** — they're clues, not failures!\n",
    "- **Experiment freely** — change numbers and strings to see what happens\n",
    "- **Ask questions** — programming is collaborative!\n",
    "\n",
    "### Book References\n",
    "- **Chapter 1**: Getting Started with Python\n",
    "- **Chapter 2**: Variables and Input  \n",
    "- **Chapter 3**: Decision Structures\n",
    "- **Chapter 4**: Repetition Structures\n"
   ]
  }
 ],
 "metadata": {
  "language_info": {
   "name": "python"
  }
 },
 "nbformat": 4,
 "nbformat_minor": 5
}
