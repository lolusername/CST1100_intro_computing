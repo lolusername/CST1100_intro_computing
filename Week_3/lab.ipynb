{
 "cells": [
  {
   "cell_type": "markdown",
   "metadata": {},
   "source": [
    "# Week 3 Lab — Data Representation in Practice: Bits/Bytes → Text, Images, and SQL\n",
    "\n",
    "**Goals**  \n",
    "By the end of this lab you will be able to:\n",
    "\n",
    "- Explain and *demonstrate* how numbers, text, and images are represented using bits and bytes.\n",
    "- Convert between decimal, binary, and hexadecimal, and write small conversion utilities yourself.\n",
    "- Inspect the raw bytes of strings and files; reason about encodings (ASCII vs. Unicode/UTF-8).\n",
    "- Visualize pixel grids and experiment with color depth and resolution trade-offs.\n",
    "- Use SQL `SELECT` with an embedded SQLite database; work with Unicode text in queries.\n",
    "- Reflect on why representation decisions matter for performance, correctness, and careers.\n",
    "\n",
    "> **Format:** This is a guided notebook with mini-lectures (Markdown), worked examples, and exercises.  \n",
    "> **Estimated time:** 75–100 minutes if you work through all extensions."
   ]
  },
  {
   "cell_type": "markdown",
   "metadata": {},
   "source": [
    "## 1) Bits & Bytes Fundamentals\n",
    "\n",
    "A **bit** is a 0 or 1. A **byte** is 8 bits → 256 possible values (0–255).  \n",
    "We'll warm up by converting numbers across bases, and then implement our own converters."
   ]
  },
  {
   "cell_type": "code",
   "execution_count": null,
   "metadata": {},
   "outputs": [],
   "source": [
    "# Quick Python warm-up: built-ins for binary/hex\n",
    "nums = [0, 1, 2, 7, 8, 15, 16, 31, 32, 63, 64, 127, 128, 255]\n",
    "for n in nums:\n",
    "    print(f\"{n:>3}  bin={bin(n)[2:]:>8}  hex={hex(n)[2:].upper():>2}\")"
   ]
  },
  {
   "cell_type": "markdown",
   "metadata": {},
   "source": [
    "### Your Turn (Exercise 1A) — Manual Converters\n",
    "**Task:** Implement functions to convert from decimal to binary *without* using `bin()` or format strings. Do the same for binary→decimal.\n",
    "\n",
    "**Hints:**  \n",
    "- For decimal→binary: repeatedly divide by 2; collect remainders; reverse at the end.  \n",
    "- For binary→decimal: iterate digits from right to left; use positional weights (1, 2, 4, 8, ...)."
   ]
  },
  {
   "cell_type": "code",
   "execution_count": null,
   "metadata": {},
   "outputs": [],
   "source": [
    "def dec_to_bin(n: int) -> str:\n",
    "    \"\"\"Return binary string for non-negative integer n (no '0b' prefix).\"\"\"\n",
    "    if n == 0:\n",
    "        return \"0\"\n",
    "    bits = []\n",
    "    while n > 0:\n",
    "        bits.append(str(n % 2))\n",
    "        n //= 2\n",
    "    return ''.join(reversed(bits))\n",
    "\n",
    "def bin_to_dec(b: str) -> int:\n",
    "    \"\"\"Return decimal integer for binary string b (e.g., '1011').\"\"\"\n",
    "    total = 0\n",
    "    for ch in b.strip():\n",
    "        if ch not in '01':\n",
    "            raise ValueError(\"Binary string must contain only 0/1.\")\n",
    "        total = total * 2 + int(ch)\n",
    "    return total\n",
    "\n",
    "# Quick self-checks\n",
    "tests = [0,1,2,5,7,8,15,16,31,32,63,64,127,128,255]\n",
    "for t in tests:\n",
    "    b = dec_to_bin(t)\n",
    "    back = bin_to_dec(b)\n",
    "    assert back == t, (t, b, back)\n",
    "print(\"✅ dec_to_bin / bin_to_dec basic tests passed.\")"
   ]
  },
  {
   "cell_type": "markdown",
   "metadata": {},
   "source": [
    "### Reflection\n",
    "- Why is binary \"natural\" for computers?  \n",
    "- Why might humans prefer hexadecimal when reading low-level values?"
   ]
  },
  {
   "cell_type": "markdown",
   "metadata": {},
   "source": [
    "## 2) Character Encodings: ASCII → Unicode (UTF-8)\n",
    "\n",
    "- **ASCII:** 7-bit codes for English letters, digits, punctuation (0–127).  \n",
    "- **Unicode:** assigns a unique code point to characters in *all* writing systems, plus symbols and emoji.  \n",
    "- **UTF-8:** variable-length encoding of Unicode code points (1–4 bytes per character).\n",
    "\n",
    "We'll explore how Python represents characters and how to go from characters → bytes and back."
   ]
  },
  {
   "cell_type": "code",
   "execution_count": null,
   "metadata": {},
   "outputs": [],
   "source": [
    "# ASCII/Unicode basics with ord() and chr()\n",
    "samples = ['A', 'a', 'Z', '0', '9', ' ', 'ñ', '€', '😀']\n",
    "for s in samples:\n",
    "    cp = ord(s)           # code point (integer)\n",
    "    enc = s.encode('utf-8')  # bytes in UTF-8\n",
    "    print(f\"{s!r}  code_point=U+{cp:04X}  utf8_bytes={list(enc)}  as_hex={[hex(b) for b in enc]}\")"
   ]
  },
  {
   "cell_type": "markdown",
   "metadata": {},
   "source": [
    "### Worked Example: Encoding & Decoding\n",
    "- Strings (`str`) are sequences of Unicode code points.  \n",
    "- Bytes (`bytes`) are sequences of 8-bit integers (0–255).  \n",
    "- `.encode('utf-8')` converts `str → bytes`, `.decode('utf-8')` converts back."
   ]
  },
  {
   "cell_type": "code",
   "execution_count": null,
   "metadata": {},
   "outputs": [],
   "source": [
    "text = \"Hello ñ € 😀\"\n",
    "b = text.encode('utf-8')\n",
    "print(\"Original text:\", text)\n",
    "print(\"As bytes     :\", b)\n",
    "print(\"Hex bytes    :\", [hex(x) for x in b])\n",
    "\n",
    "# Decode back\n",
    "roundtrip = b.decode('utf-8')\n",
    "print(\"Roundtrip    :\", roundtrip)\n",
    "assert roundtrip == text"
   ]
  },
  {
   "cell_type": "markdown",
   "metadata": {},
   "source": [
    "### Your Turn (Exercise 2A) — Diagnose Encoding Issues\n",
    "1. Construct a bytes object manually that **is not** valid UTF-8; try to decode it and catch the error.  \n",
    "2. Then decode with `errors='replace'` and observe the replacement characters.  \n",
    "3. Explain in a sentence how \"mojibake\" happens."
   ]
  },
  {
   "cell_type": "code",
   "execution_count": null,
   "metadata": {},
   "outputs": [],
   "source": [
    "# Exercise 2A — starter\n",
    "# 0xFF is not a valid start byte in UTF-8\n",
    "bad_bytes = bytes([0x48, 0x65, 0x6C, 0x6C, 0x6F, 0xFF, 0x61])  # 'Hello' + invalid + 'a'\n",
    "print(\"Raw bytes:\", bad_bytes)\n",
    "\n",
    "try:\n",
    "    print(bad_bytes.decode('utf-8'))\n",
    "except UnicodeDecodeError as e:\n",
    "    print(\"UnicodeDecodeError:\", e)\n",
    "\n",
    "print(\"With replacement:\", bad_bytes.decode('utf-8', errors='replace'))"
   ]
  },
  {
   "cell_type": "markdown",
   "metadata": {},
   "source": [
    "### Your Turn (Exercise 2B) — Write a Byte Inspector\n",
    "**Task:** Write a function `inspect_bytes(s: str)` that returns a table (list of dicts) for each character in `s`, including:\n",
    "- the character itself\n",
    "- code point (U+XXXX)\n",
    "- UTF-8 length (# of bytes)\n",
    "- the bytes in decimal and hex\n",
    "\n",
    "*(Tip: you can print as a nicely aligned table or just return the list.)*"
   ]
  },
  {
   "cell_type": "code",
   "execution_count": null,
   "metadata": {},
   "outputs": [],
   "source": [
    "def inspect_bytes(s: str):\n",
    "    rows = []\n",
    "    for ch in s:\n",
    "        cp = ord(ch)\n",
    "        enc = ch.encode('utf-8')\n",
    "        rows.append({\n",
    "            \"char\": ch,\n",
    "            \"code_point\": f\"U+{cp:04X}\",\n",
    "            \"utf8_len\": len(enc),\n",
    "            \"bytes_dec\": list(enc),\n",
    "            \"bytes_hex\": [hex(b) for b in enc],\n",
    "        })\n",
    "    return rows\n",
    "\n",
    "# Example:\n",
    "for row in inspect_bytes(\"Data: ñ 😀\"):\n",
    "    print(row)"
   ]
  },
  {
   "cell_type": "markdown",
   "metadata": {},
   "source": [
    "## 3) Inspecting Real Files (Text + Image)\n",
    "\n",
    "We'll generate small files locally so everyone has the same artifacts:\n",
    "1. A text file containing plain ASCII and Unicode.  \n",
    "2. A tiny synthetic image (color blocks) so we can open, inspect, and manipulate pixels.\n",
    "\n",
    "We will not use external libraries beyond Python's standard library and `matplotlib`/`numpy` for visualization."
   ]
  },
  {
   "cell_type": "code",
   "execution_count": null,
   "metadata": {},
   "outputs": [],
   "source": [
    "from pathlib import Path\n",
    "\n",
    "# Create a small text file with ASCII + Unicode content\n",
    "text_path = Path('sample_text_utf8.txt')\n",
    "text_path.write_text(\"\"\"\n",
    "Line 1: ASCII only\n",
    "Line 2: Accents — café, jalapeño\n",
    "Line 3: Symbols — €, ©, ™\n",
    "Line 4: Emoji — 😀, 🧠, 🐍\n",
    "\"\"\", encoding='utf-8')\n",
    "print(\"Wrote:\", text_path.resolve())\n",
    "\n",
    "# Save and display first few raw bytes\n",
    "raw = text_path.read_bytes()\n",
    "print(\"First 64 bytes:\", raw[:64])\n",
    "print(\"As hex        :\", [hex(b) for b in raw[:64]])"
   ]
  },
  {
   "cell_type": "markdown",
   "metadata": {},
   "source": [
    "### Visualizing a Synthetic Image (Pixels & Bit Depth)\n",
    "\n",
    "We'll create a small image using `numpy` and display it.  \n",
    "Then we'll reduce the number of colors (quantization) to simulate lower bit depth."
   ]
  },
  {
   "cell_type": "code",
   "execution_count": null,
   "metadata": {},
   "outputs": [],
   "source": [
    "import numpy as np\n",
    "import matplotlib.pyplot as plt\n",
    "\n",
    "# Create a 64x64 image with color blocks (R, G, B gradients)\n",
    "h, w = 64, 64\n",
    "img = np.zeros((h, w, 3), dtype=np.uint8)\n",
    "\n",
    "for i in range(h):\n",
    "    for j in range(w):\n",
    "        img[i, j, 0] = int(255 * i / (h-1))        # R gradient vertical\n",
    "        img[i, j, 1] = int(255 * j / (w-1))        # G gradient horizontal\n",
    "        img[i, j, 2] = int(255 * ((i+j)/ (h+w-2))) # B diagonal\n",
    "\n",
    "plt.figure(figsize=(4,4))\n",
    "plt.imshow(img)\n",
    "plt.axis('off')\n",
    "plt.title(\"Synthetic 64×64 RGB image (24-bit)\")\n",
    "plt.show()"
   ]
  },
  {
   "cell_type": "markdown",
   "metadata": {},
   "source": [
    "### Your Turn (Exercise 3A) — Quantize (Reduce Color Depth)\n",
    "\n",
    "**Task:** Write a function that reduces the number of distinct values per channel.  \n",
    "- Example: with `levels=4`, allowed channel values should be `{0, 85, 170, 255}` (i.e., evenly spaced).  \n",
    "- Apply to the synthetic image and visualize the result.\n",
    "\n",
    "**Discussion:** How does perceived quality change as you reduce `levels`? Why does file size drop?"
   ]
  },
  {
   "cell_type": "code",
   "execution_count": null,
   "metadata": {},
   "outputs": [],
   "source": [
    "def quantize_channel(channel: np.ndarray, levels: int) -> np.ndarray:\n",
    "    \"\"\"Quantize a single channel (0..255) to `levels` evenly spaced values.\"\"\"\n",
    "    if levels < 2:\n",
    "        raise ValueError(\"levels must be >= 2\")\n",
    "    # Map 0..255 into 0..(levels-1), then back to 0..255\n",
    "    scaled = np.floor(channel / 256.0 * levels).astype(int)\n",
    "    scaled = np.clip(scaled, 0, levels-1)\n",
    "    # Map to evenly spaced 0..255\n",
    "    return (scaled * (255 // (levels-1))).astype(np.uint8)\n",
    "\n",
    "def quantize_image(img: np.ndarray, levels: int) -> np.ndarray:\n",
    "    out = np.zeros_like(img)\n",
    "    for c in range(3):\n",
    "        out[..., c] = quantize_channel(img[..., c], levels)\n",
    "    return out\n",
    "\n",
    "# Try a few levels\n",
    "for levels in (8, 4, 2):\n",
    "    q = quantize_image(img, levels)\n",
    "    plt.figure(figsize=(4,4))\n",
    "    plt.imshow(q)\n",
    "    plt.axis('off')\n",
    "    plt.title(f\"Quantized image: {levels} levels per channel\")\n",
    "    plt.show()"
   ]
  },
  {
   "cell_type": "markdown",
   "metadata": {},
   "source": [
    "### Your Turn (Exercise 3B) — Save, Inspect Bytes, Compare Sizes\n",
    "\n",
    "1. Save original and quantized images as PNG files (lossless).  \n",
    "2. Compare file sizes with `Path(...).stat().st_size`.  \n",
    "3. Open the PNGs in binary mode and print the first 64 bytes in hex. What do you notice?\n",
    "\n",
    "> PNG is compressed + structured; even with fewer colors, metadata and compression influence size.  \n",
    "> (Optional extension) Try BMP (uncompressed) if available via `plt.imsave(..., format='bmp')` and compare."
   ]
  },
  {
   "cell_type": "code",
   "execution_count": null,
   "metadata": {},
   "outputs": [],
   "source": [
    "from pathlib import Path\n",
    "\n",
    "plt.imsave(\"img_original.png\", img)\n",
    "print(\"img_original.png size:\", Path(\"img_original.png\").stat().st_size, \"bytes\")\n",
    "\n",
    "for levels in (8, 4, 2):\n",
    "    q = quantize_image(img, levels)\n",
    "    fname = f\"img_q{levels}.png\"\n",
    "    plt.imsave(fname, q)\n",
    "    size = Path(fname).stat().st_size\n",
    "    print(f\"{fname} size:\", size, \"bytes\")\n",
    "    head = Path(fname).read_bytes()[:64]\n",
    "    print(f\"{fname} first 16 bytes (hex):\", [hex(b) for b in head[:16]])"
   ]
  },
  {
   "cell_type": "markdown",
   "metadata": {},
   "source": [
    "## 4) SQL with SQLite (Embedded) — SELECT Basics + Unicode\n",
    "\n",
    "We'll create a small in-memory SQLite database, populate a `students` table with Unicode names, and practice queries.\n",
    "\n",
    "**Why SQLite here?**  \n",
    "- No network or external setup needed.  \n",
    "- SQL syntax is close enough to PostgreSQL for our purposes.  \n",
    "- The *concepts* (rows, columns, filtering) are identical."
   ]
  },
  {
   "cell_type": "code",
   "execution_count": null,
   "metadata": {},
   "outputs": [],
   "source": [
    "import sqlite3\n",
    "\n",
    "conn = sqlite3.connect(':memory:')\n",
    "cur = conn.cursor()\n",
    "\n",
    "cur.execute(\"\"\"\n",
    "CREATE TABLE students (\n",
    "    id    INTEGER PRIMARY KEY,\n",
    "    name  TEXT NOT NULL,\n",
    "    age   INTEGER NOT NULL,\n",
    "    note  TEXT\n",
    ");\n",
    "\"\"\")\n",
    "\n",
    "rows = [\n",
    "    (1, \"Ana\", 20, \"ASCII only\"),\n",
    "    (2, \"José\", 23, \"Has accent\"),\n",
    "    (3, \"李雷\", 22, \"Chinese name\"),\n",
    "    (4, \"Aïcha\", 24, \"Combining diaeresis\"),\n",
    "    (5, \"Marta 😀\", 21, \"Emoji in name\"),\n",
    "]\n",
    "cur.executemany(\"INSERT INTO students VALUES (?, ?, ?, ?);\", rows)\n",
    "conn.commit()\n",
    "\n",
    "for row in cur.execute(\"SELECT id, name, age, note FROM students;\"):\n",
    "    print(row)"
   ]
  },
  {
   "cell_type": "markdown",
   "metadata": {},
   "source": [
    "### Basic SELECT Patterns\n",
    "- Choose columns: `SELECT name, age FROM students;`  \n",
    "- Filter rows: `WHERE age > 22`  \n",
    "- Sort results: `ORDER BY age DESC`  \n",
    "- Pattern match (SQLite): `WHERE name LIKE 'A%'` (case-sensitive by default)"
   ]
  },
  {
   "cell_type": "code",
   "execution_count": null,
   "metadata": {},
   "outputs": [],
   "source": [
    "print(\"Names + ages, age > 22, ordered by age desc\")\n",
    "for row in cur.execute(\"\"\"\n",
    "SELECT name, age\n",
    "FROM students\n",
    "WHERE age > 22\n",
    "ORDER BY age DESC;\n",
    "\"\"\"):\n",
    "    print(row)\n",
    "\n",
    "print(\"\\nNames starting with 'A' (ASCII capital A):\")\n",
    "for row in cur.execute(\"\"\"\n",
    "SELECT id, name\n",
    "FROM students\n",
    "WHERE name LIKE 'A%';\n",
    "\"\"\"):\n",
    "    print(row)"
   ]
  },
  {
   "cell_type": "markdown",
   "metadata": {},
   "source": [
    "### Your Turn (Exercise 4A) — Unicode & Queries\n",
    "1. Find all students whose names contain a non-ASCII character. *(Hint: iterate names in Python and test `ord(ch) > 127`.)*  \n",
    "2. Query for students whose names contain an emoji (you can search for `LIKE '%😀%'`).  \n",
    "3. Create a calculated column in SQL: `age_group` as `'21_or_below'` or `'22_and_above'` and count each group."
   ]
  },
  {
   "cell_type": "code",
   "execution_count": null,
   "metadata": {},
   "outputs": [],
   "source": [
    "# 4A.1: Find names containing non-ASCII characters (Python-side check)\n",
    "def is_non_ascii(s: str) -> bool:\n",
    "    return any(ord(ch) > 127 for ch in s)\n",
    "\n",
    "print(\"Non-ASCII names:\")\n",
    "for row in cur.execute(\"SELECT id, name FROM students;\"):\n",
    "    if is_non_ascii(row[1]):\n",
    "        print(row)\n",
    "\n",
    "# 4A.2: Names containing an emoji — direct SQL LIKE\n",
    "print(\"\\nNames with 😀:\")\n",
    "for row in cur.execute(\"\"\"\n",
    "SELECT id, name FROM students\n",
    "WHERE name LIKE '%😀%';\n",
    "\"\"\"):\n",
    "    print(row)\n",
    "\n",
    "# 4A.3: Age grouping and counts (SQL CASE)\n",
    "print(\"\\nAge group counts:\")\n",
    "for row in cur.execute(\"\"\"\n",
    "SELECT\n",
    "  CASE WHEN age <= 21 THEN '21_or_below' ELSE '22_and_above' END AS age_group,\n",
    "  COUNT(*) as cnt\n",
    "FROM students\n",
    "GROUP BY age_group;\n",
    "\"\"\"):\n",
    "    print(row)"
   ]
  },
  {
   "cell_type": "markdown",
   "metadata": {},
   "source": [
    "## 5) Advanced: Reading File Bytes & Offsets (Optional Extension)\n",
    "\n",
    "We'll practice reading raw bytes at specific offsets and interpreting them.\n",
    "\n",
    "**Mini-task:**  \n",
    "- Write a function `hexdump(path, n=64, offset=0)` that prints `n` bytes from a file starting at `offset`, in hex.  \n",
    "- Use it on `img_original.png` and `sample_text_utf8.txt`.  \n",
    "- (Challenge) Skip the PNG header (first 8 bytes) and look at the next 32 bytes."
   ]
  },
  {
   "cell_type": "code",
   "execution_count": null,
   "metadata": {},
   "outputs": [],
   "source": [
    "def hexdump(path: str, n: int = 64, offset: int = 0):\n",
    "    data = Path(path).read_bytes()[offset:offset+n]\n",
    "    hexs = [f\"{b:02X}\" for b in data]\n",
    "    print(f\"{path} @ offset {offset} (len={len(data)}):\\n\", ' '.join(hexs))\n",
    "\n",
    "# Examples\n",
    "hexdump('img_original.png', n=32, offset=0)\n",
    "hexdump('img_original.png', n=32, offset=8)  # PNG header is 8 bytes\n",
    "hexdump('sample_text_utf8.txt', n=64, offset=0)"
   ]
  },
  {
   "cell_type": "markdown",
   "metadata": {},
   "source": [
    "## 6) Synthesis & Reflection\n",
    "\n",
    "Answer in your own words (short paragraphs):\n",
    "\n",
    "1. How do bits and bytes scale up to represent complex data like Unicode strings and RGB images? Give an example from this notebook.\n",
    "2. Why can lowering color depth reduce file size? What visual artifacts did you notice when quantizing?\n",
    "3. In databases, why do text encodings matter? Describe a realistic bug that can occur when encodings are mismatched.\n",
    "4. After today's work, explain *when* you would inspect raw bytes and *why* — in debugging, security, or data engineering contexts."
   ]
  }
 ],
 "metadata": {
  "kernelspec": {
   "display_name": "Python 3",
   "language": "python",
   "name": "python3"
  },
  "language_info": {
   "name": "python",
   "version": ""
  }
 },
 "nbformat": 4,
 "nbformat_minor": 5
}
