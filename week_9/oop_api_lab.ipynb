{
  "cells": [
    {
      "cell_type": "markdown",
      "metadata": {},
      "source": [
        "# Week 9 Lab: Mini API Client with OOP\n",
        "\n",
        "This notebook walks you through building a tiny API client using Python classes and the Cat Facts API. Work through each checkpoint, run the tests, and annotate the code with comments as you go."
      ]
    },
    {
      "cell_type": "markdown",
      "metadata": {},
      "source": [
        "## Learning Objectives\n",
        "- Translate beginner OOP vocabulary (class, object, attribute, method, constructor) into working Python code.\n",
        "- Send HTTP requests with `requests`, inspect the response, and handle errors safely.\n",
        "- Encapsulate API logic inside a reusable class that tracks state and provides helper methods.\n",
        "- Practice debugging by reading stack traces, printing intermediate values, and writing assertions."
      ]
    },
    {
      "cell_type": "markdown",
      "metadata": {},
      "source": [
        "## Getting Ready\n",
        "1. **Run the next cell first** to import Python libraries used in the lab.\n",
        "2. If you see an error about `requests` not being found, open a terminal and install it with `pip install requests`.\n",
        "3. Create a `data/` folder next to this notebook if you plan to save files locally."
      ]
    },
    {
      "cell_type": "code",
      "metadata": {},
      "execution_count": null,
      "outputs": [],
      "source": [
        "import json\n",
        "from datetime import datetime\n",
        "from pathlib import Path\n",
        "\n",
        "import requests\n",
        "\n",
        "print(f\"requests version: {requests.__version__}\")"
      ]
    },
    {
      "cell_type": "markdown",
      "metadata": {},
      "source": [
        "## Warm-Up: Explore a Finished Class\n",
        "Before writing your own class, let's review what a simple finished version looks like. Run the next cell and read the comments so you can map each OOP vocabulary term to real code.\n"
      ]
    },
    {
      "cell_type": "code",
      "metadata": {},
      "execution_count": null,
      "outputs": [],
      "source": [
        "class Playlist:\n",
        "    \"\"\"Represent a tiny music playlist.\"\"\"\n",
        "\n",
        "    def __init__(self, title, songs=None):\n",
        "        # Constructor: runs when we make a new Playlist.\n",
        "        self.title = title  # attribute\n",
        "        self.songs = songs or []  # attribute\n",
        "\n",
        "    def add_song(self, song_title):\n",
        "        \"\"\"Method that updates the object's state.\"\"\"\n",
        "        self.songs.append(song_title)\n",
        "\n",
        "    def summary(self):\n",
        "        return f'Playlist {self.title} has {len(self.songs)} songs.'\n",
        "\n",
        "study_mix = Playlist('Study Session', songs=['Lofi Sunrise'])\n",
        "study_mix.add_song('Rainy Beats')\n",
        "print(study_mix.summary())\n",
        "print('Songs stored:', study_mix.songs)\n"
      ]
    },
    {
      "cell_type": "markdown",
      "metadata": {},
      "source": [
        "### What to Notice\n",
        "1. `Playlist` is the **class** (the blueprint).\n",
        "2. `study_mix` is an **object** created from that class.\n",
        "3. Inside `__init__`, we set up our **attributes** (`title`, `songs`).\n",
        "4. Methods like `add_song` and `summary` let the object do useful actions.\n",
        "\n",
        "Use this as a reference when you build your own class below. If you get stuck later, rerun this cell and compare.\n"
      ]
    },
    {
      "cell_type": "markdown",
      "metadata": {},
      "source": [
        "## Checkpoint 1 \u2013 Practice With Classes\n",
        "Now that you've seen a complete example, it's your turn to finish a small class. Complete the `summary` method so it returns a friendly string. Run the test cell below to make sure the class works. Extra challenge: add an optional `milk_option` when creating the order.\n",
        "\n",
        "**Tip:** Keep the warm-up example open in another window or re-run it whenever you want a reminder of how attributes and methods connect.\n"
      ]
    },
    {
      "cell_type": "code",
      "metadata": {},
      "execution_count": null,
      "outputs": [],
      "source": [
        "class CoffeeOrder:\n",
        "    \"\"\"Blueprint for a coffee order.\"\"\"\n",
        "\n",
        "    def __init__(self, size, drink_type, milk_option='whole'):\n",
        "        self.size = size\n",
        "        self.drink_type = drink_type\n",
        "        self.milk_option = milk_option\n",
        "\n",
        "    def summary(self):\n",
        "        \"\"\"Return a human-readable description of the order.\n",
        "\n",
        "        Step-by-step hints:\n",
        "        1. Build a base string with the drink size and type (consider `.title()` to capitalize).\n",
        "        2. Mention the milk option (if there is one).\n",
        "        3. Return the finished sentence.\n",
        "        \"\"\"\n",
        "        raise NotImplementedError('Implement summary to describe the coffee order')\n"
      ]
    },
    {
      "cell_type": "code",
      "metadata": {},
      "execution_count": null,
      "outputs": [],
      "source": [
        "# \u2705 Test your CoffeeOrder class here\n",
        "# Need a reminder? Scroll up to rerun the Playlist example before trying this test.\n",
        "sample = CoffeeOrder('medium', 'latte', milk_option='oat')\n",
        "assert sample.size == 'medium'\n",
        "assert 'latte' in sample.drink_type\n",
        "\n",
        "try:\n",
        "    preview = sample.summary()\n",
        "except NotImplementedError:\n",
        "    raise AssertionError('summary() still needs to be implemented. Follow the TODO in the class above.')\n",
        "else:\n",
        "    assert isinstance(preview, str)\n",
        "    assert 'oat' in preview\n",
        "    print('Great! summary() is returning:', preview)\n"
      ]
    },
    {
      "cell_type": "markdown",
      "metadata": {},
      "source": [
        "## Checkpoint 2 \u2013 Explore an API Response\n",
        "Run the cell to make a GET request. Investigate the response dictionary to find the keys you might want to store on your object."
      ]
    },
    {
      "cell_type": "code",
      "metadata": {},
      "execution_count": null,
      "outputs": [],
      "source": [
        "CAT_FACT_URL = \"https://catfact.ninja/fact\"\n",
        "\n",
        "response = requests.get(CAT_FACT_URL, params={\"max_length\": 80})\n",
        "print(\"Status:\", response.status_code)\n",
        "print(\"Headers:\", response.headers.get(\"Content-Type\"))\n",
        "\n",
        "fact_payload = response.json()\n",
        "print(\"Keys returned:\", list(fact_payload.keys()))\n",
        "print(\"Example fact:\n",
        "\", fact_payload[\"fact\"])"
      ]
    },
    {
      "cell_type": "markdown",
      "metadata": {},
      "source": [
        "## Checkpoint 3 \u2013 Build the `CatFactsClient`\n",
        "The skeleton class below wraps the Cat Facts API. Follow the TODO comments to finish each method. Aim to:\n",
        "- Store the most recent fact in `self.last_fact` and the timestamp in `self.last_fetched_at`.\n",
        "- Reuse `_handle_response` so you have consistent error messages.\n",
        "- Implement `save_last_fact` to write the last fact to `data/last_fact.json` (or another path you choose).\n",
        "- Fill in `search_facts` so it filters results containing a keyword.\n",
        "\n",
        "Run the tests afterwards to confirm everything works. When a test fails, read the assertion message and debug step-by-step."
      ]
    },
    {
      "cell_type": "code",
      "metadata": {},
      "execution_count": null,
      "outputs": [],
      "source": [
        "class CatFactsClient:\n",
        "    \"\"\"Small API wrapper that remembers the most recent fact.\"\"\"\n",
        "\n",
        "    BASE_URL = \"https://catfact.ninja\"\n",
        "\n",
        "    def __init__(self, session=None):\n",
        "        # Allow passing in a requests.Session for easier testing or caching.\n",
        "        self.session = session or requests.Session()\n",
        "        self.last_fact = None\n",
        "        self.last_fetched_at = None\n",
        "\n",
        "    def _handle_response(self, response):\n",
        "        \"\"\"Raise helpful errors and return the parsed JSON payload.\"\"\"\n",
        "        try:\n",
        "            response.raise_for_status()\n",
        "        except requests.HTTPError as exc:\n",
        "            status = response.status_code\n",
        "            snippet = response.text[:200]\n",
        "            raise RuntimeError(f\"API error {status}: {snippet}\") from exc\n",
        "        return response.json()\n",
        "\n",
        "    def random_fact(self, max_length=120):\n",
        "        \"\"\"Fetch a single random fact and remember when it was fetched.\"\"\"\n",
        "        url = f\"{self.BASE_URL}/fact\"\n",
        "        payload = self._handle_response(\n",
        "            self.session.get(url, params={\"max_length\": max_length})\n",
        "        )\n",
        "        # TODO: store the fact text and timestamp on the instance.\n",
        "        raise NotImplementedError(\"Store the fact and timestamp, then return the fact text\")\n",
        "\n",
        "    def facts_batch(self, limit=3):\n",
        "        \"\"\"Return a list of fact strings using the bulk endpoint.\"\"\"\n",
        "        url = f\"{self.BASE_URL}/facts\"\n",
        "        payload = self._handle_response(self.session.get(url, params={\"limit\": limit}))\n",
        "        # TODO: extract only the \"fact\" field from each item in payload[\"data\"].\n",
        "        raise NotImplementedError(\"Return a list of fact strings from the API response\")\n",
        "\n",
        "    def save_last_fact(self, path=Path(\"data/last_fact.json\")):\n",
        "        \"\"\"Write the last fetched fact and timestamp to disk.\n",
        "\n",
        "        Tip: use json.dump with a dictionary that includes both pieces of data.\n",
        "        If no fact has been fetched yet, raise a ValueError with a helpful message.\n",
        "        \"\"\"\n",
        "        raise NotImplementedError(\"Save the last fact to JSON. Check that last_fact exists first.\")\n",
        "\n",
        "    def search_facts(self, keyword, limit=10):\n",
        "        \"\"\"Return only the facts that contain the keyword (case-insensitive).\"\"\"\n",
        "        if not keyword:\n",
        "            raise ValueError(\"Please provide a keyword to search for.\")\n",
        "        # TODO: fetch a batch and filter results based on the keyword.\n",
        "        raise NotImplementedError(\"Filter the batch results to those containing the keyword\")"
      ]
    },
    {
      "cell_type": "code",
      "metadata": {},
      "execution_count": null,
      "outputs": [],
      "source": [
        "# \u2705 Tests for CatFactsClient\n",
        "client = CatFactsClient()\n",
        "\n",
        "try:\n",
        "    fact = client.random_fact(max_length=60)\n",
        "except NotImplementedError:\n",
        "    raise AssertionError(\"Implement random_fact before running the tests.\")\n",
        "else:\n",
        "    assert isinstance(fact, str) and fact, \"random_fact should return a non-empty string\"\n",
        "    assert client.last_fact == fact, \"Store the fact on last_fact\"\n",
        "    assert client.last_fetched_at is not None, \"Remember when the fact was fetched\"\n",
        "    print(\"Random fact:\", fact)\n",
        "\n",
        "try:\n",
        "    batch = client.facts_batch(limit=5)\n",
        "except NotImplementedError:\n",
        "    raise AssertionError(\"Implement facts_batch before running the tests.\")\n",
        "else:\n",
        "    assert isinstance(batch, list) and batch, \"facts_batch should return a list\"\n",
        "    assert all(isinstance(item, str) for item in batch), \"Each batch item should be a string\"\n",
        "    print(\"Batch length:\", len(batch))\n",
        "\n",
        "client.last_fact = \"Cats have retractable claws.\"\n",
        "client.last_fetched_at = datetime(2024, 1, 3, 12, 0, 0)\n",
        "try:\n",
        "    client.save_last_fact(path=Path(\"last_fact_preview.json\"))\n",
        "except NotImplementedError:\n",
        "    raise AssertionError(\"Complete save_last_fact so it writes JSON.\")\n",
        "else:\n",
        "    preview = Path(\"last_fact_preview.json\")\n",
        "    assert preview.exists(), \"The JSON file was not created. Check the path.\"\n",
        "    content = json.loads(preview.read_text())\n",
        "    assert \"fact\" in content and \"fetched_at\" in content\n",
        "    preview.unlink()  # clean up temporary file\n",
        "    print(\"Saved fact preview:\", content)\n",
        "\n",
        "try:\n",
        "    results = client.search_facts(\"cat\", limit=5)\n",
        "except NotImplementedError:\n",
        "    raise AssertionError(\"Implement search_facts to filter facts by keyword.\")\n",
        "else:\n",
        "    assert all(\"cat\" in fact.lower() for fact in results), \"Each result should include the keyword\"\n",
        "    print(\"Filtered results count:\", len(results))"
      ]
    },
    {
      "cell_type": "markdown",
      "metadata": {},
      "source": [
        "## Extension Ideas\n",
        "- Add a method `random_fact_with_length(self, min_length, max_length)` that loops until it finds a fact inside the range.\n",
        "- Store fetched facts in a list attribute and create a method to list unique words.\n",
        "- Build a simple command-line menu using `input()` that calls the client methods.\n",
        "- Swap in another API (Dog Facts, Bored API) and subclass `CatFactsClient` to reuse logic.\n",
        "\n",
        "Celebrate once all tests pass and commit your work!"
      ]
    }
  ],
  "metadata": {
    "kernelspec": {
      "display_name": "Python 3",
      "language": "python",
      "name": "python3"
    },
    "language_info": {
      "name": "python",
      "version": "3"
    }
  },
  "nbformat": 4,
  "nbformat_minor": 5
}